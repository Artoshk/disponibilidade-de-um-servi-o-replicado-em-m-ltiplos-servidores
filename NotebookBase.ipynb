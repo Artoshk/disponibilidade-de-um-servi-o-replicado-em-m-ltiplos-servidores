{
 "cells": [
  {
   "cell_type": "code",
   "execution_count": 1,
   "metadata": {},
   "outputs": [],
   "source": [
    "import math\n",
    "import numpy as np\n",
    "import matplotlib.pyplot as plt\n",
    "from mpl_toolkits.mplot3d import Axes3D\n",
    "import ipywidgets as widgets\n",
    "from IPython.display import display"
   ]
  },
  {
   "cell_type": "markdown",
   "metadata": {},
   "source": [
    "Fórmula matemática que calcula a disponibilidade de um serviço replicado em vários servidores\n",
    "\n",
    "* n – número de servidores (n > 0)\n",
    "* k – número mínimo de servidores disponíveis necessário para o serviço ser acessado de forma consistente (0 < k ≤ n)\n",
    "* p – probabilidade de cada servidor estar disponível em um dado instante (0 ≤ p ≤ 1)\n",
    "\n",
    "∑(i=0 to k) [C(n,i) * p^i * (1-p)^(n-i)]\n",
    "\n",
    "onde:\n",
    "\n",
    "C(n,i) representa o número de maneiras de escolher i servidores dentre n servidores.\n",
    "p^i representa a probabilidade de que exatamente i servidores estejam disponíveis em um determinado momento.\n",
    "(1-p)^(n-i) representa a probabilidade de que os n-i servidores restantes não estejam disponíveis.\n",
    "\n",
    "Essa fórmula pode ser usada para calcular a probabilidade de ter pelo menos k servidores disponíveis de n servidores para uma determinada probabilidade p. Se o resultado dessa fórmula for maior que um determinado limite, o serviço poderá ser acessado de forma consistente."
   ]
  },
  {
   "cell_type": "code",
   "execution_count": 2,
   "metadata": {},
   "outputs": [],
   "source": [
    "def availability(n, k, p):\n",
    "    return sum(math.comb(n, i) * p**i * (1-p)**(n-i) for i in range(k, n+1))"
   ]
  },
  {
   "cell_type": "code",
   "execution_count": 3,
   "metadata": {},
   "outputs": [],
   "source": [
    "n_slider = widgets.IntSlider(value=5, min=1, max=50, step=1, description='n:')\n",
    "k_slider = widgets.IntSlider(value=2, min=2, max=20, step=1, description='k:')\n",
    "p_slider = widgets.FloatSlider(value=0.5, min=0.0, max=1.0, step=0.01, description='p:')\n",
    "x_rotator = widgets.FloatSlider(value=30, min=0, max=360, step=1, description='x rot:')\n",
    "y_rotator = widgets.FloatSlider(value=30, min=0, max=360, step=1, description='y rot:')"
   ]
  },
  {
   "cell_type": "code",
   "execution_count": 4,
   "metadata": {},
   "outputs": [
    {
     "data": {
      "application/vnd.jupyter.widget-view+json": {
       "model_id": "d40ae5620cb84f478554f50704a30942",
       "version_major": 2,
       "version_minor": 0
      },
      "text/plain": [
       "interactive(children=(IntSlider(value=5, description='n:', max=50, min=1), IntSlider(value=2, description='k:'…"
      ]
     },
     "execution_count": 4,
     "metadata": {},
     "output_type": "execute_result"
    }
   ],
   "source": [
    "def update_plot(n, k, p, x_rot, y_rot):\n",
    "    fig = plt.figure(figsize=(8,6))\n",
    "    ax = fig.add_subplot(111, projection='3d')\n",
    "\n",
    "    x = np.arange(1, n+1)\n",
    "    y = np.arange(1, k+1)\n",
    "    X, Y = np.meshgrid(x, y)\n",
    "    Z = np.zeros((k, n))\n",
    "    for i in range(k):\n",
    "        for j in range(n):\n",
    "            Z[i][j] = availability(j+1, i+1, p)\n",
    "\n",
    "    ax.view_init(x_rot, y_rot)\n",
    "\n",
    "    ax.plot_surface(X, Y, Z, cmap='viridis')\n",
    "    ax.set_xlabel('n')\n",
    "    ax.set_ylabel('k')\n",
    "    ax.set_zlabel('Availability')\n",
    "\n",
    "    plt.show()\n",
    "\n",
    "# k_slider <= n_slider\n",
    "widgets.jslink((k_slider, 'max'), (n_slider, 'value'))\n",
    "\n",
    "widgets.interactive(update_plot, n=n_slider, k=k_slider, p=p_slider, x_rot=x_rotator, y_rot=y_rotator)"
   ]
  }
 ],
 "metadata": {
  "kernelspec": {
   "display_name": "Python 3 (ipykernel)",
   "language": "python",
   "name": "python3"
  },
  "language_info": {
   "codemirror_mode": {
    "name": "ipython",
    "version": 3
   },
   "file_extension": ".py",
   "mimetype": "text/x-python",
   "name": "python",
   "nbconvert_exporter": "python",
   "pygments_lexer": "ipython3",
   "version": "3.10.6"
  }
 },
 "nbformat": 4,
 "nbformat_minor": 2
}
